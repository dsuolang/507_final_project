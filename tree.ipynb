{
 "cells": [
  {
   "cell_type": "markdown",
   "id": "45793a28-b61a-49cb-8ded-12a4f066feeb",
   "metadata": {},
   "source": [
    "#### Tree graph"
   ]
  },
  {
   "cell_type": "code",
   "execution_count": 13,
   "id": "2e186704",
   "metadata": {},
   "outputs": [],
   "source": [
    "import pandas as pd\n",
    "import numpy as np\n",
    "import json\n",
    "import matplotlib as plot\n",
    "import matplotlib.pyplot as plt\n",
    "from sklearn.model_selection import train_test_split\n",
    "from sklearn import tree\n",
    "from sklearn.metrics import accuracy_score,confusion_matrix,r2_score,classification_report\n",
    "from sklearn.tree import DecisionTreeClassifier\n",
    "import pickle\n",
    "from sklearn.tree import plot_tree"
   ]
  },
  {
   "cell_type": "code",
   "execution_count": null,
   "id": "502b035b",
   "metadata": {},
   "outputs": [],
   "source": [
    "def save_json(model):\n",
    "    filename = 'tree.json'\n",
    "    pickle.dump(model, open(filename, 'wb'))\n",
    "    \n",
    "def load_json(filename):\n",
    "    loaded_model = pickle.load(open(filename, 'rb'))\n",
    "    result = loaded_model.score(x_test, y_test)\n",
    "    print(result)"
   ]
  },
  {
   "cell_type": "code",
   "execution_count": 4,
   "id": "0df20182-7911-432f-a2c3-6796a815925e",
   "metadata": {},
   "outputs": [],
   "source": [
    "proj_data = pd.read_csv('project_data.csv')\n",
    "df = proj_data[[\"prices\", \"bed_num\",\"baths\",\"sqft\",\"median_income\"]].dropna()\n",
    "df['prices'] = np.where(df['prices'] > df['prices'].mean(), 0, 1)\n",
    "X = df.drop('prices', axis=1)\n",
    "y = df[['prices']].copy()\n",
    "x_train, x_test, y_train, y_test = train_test_split(X, y, test_size = 0.25, random_state=0)"
   ]
  },
  {
   "cell_type": "code",
   "execution_count": 11,
   "id": "ea2ffd28-b8b4-425c-a1b1-b94a884caa35",
   "metadata": {},
   "outputs": [],
   "source": [
    "tree=DecisionTreeClassifier()\n",
    "model = tree.fit(x_train, y_train)\n",
    "save_json(model)"
   ]
  },
  {
   "cell_type": "code",
   "execution_count": null,
   "id": "996d40c2",
   "metadata": {},
   "outputs": [],
   "source": [
    "y_pred = model.predict(x_test)\n",
    "df.feature_names = df.columns\n",
    "plt.figure(figsize=(80,55))\n",
    "plot_tree(model, filled=True, rounded=True, feature_names=df.feature_names)\n",
    "plt.show()"
   ]
  }
 ],
 "metadata": {
  "kernelspec": {
   "display_name": "Python 3 (ipykernel)",
   "language": "python",
   "name": "python3"
  },
  "language_info": {
   "codemirror_mode": {
    "name": "ipython",
    "version": 3
   },
   "file_extension": ".py",
   "mimetype": "text/x-python",
   "name": "python",
   "nbconvert_exporter": "python",
   "pygments_lexer": "ipython3",
   "version": "3.9.7"
  }
 },
 "nbformat": 4,
 "nbformat_minor": 5
}
