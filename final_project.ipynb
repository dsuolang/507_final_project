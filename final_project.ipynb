{
 "cells": [
  {
   "cell_type": "markdown",
   "id": "45793a28-b61a-49cb-8ded-12a4f066feeb",
   "metadata": {},
   "source": [
    "## SI507 Final Project : Find Your Dream Home (Data Check Point)\n",
    "#### Author: Deji Suolang\n",
    "\n",
    "##### This python sciprt contains the code for data collection, census API and webscripping results from Zillow's website"
   ]
  },
  {
   "cell_type": "code",
   "execution_count": 1,
   "id": "2e186704",
   "metadata": {},
   "outputs": [],
   "source": [
    "import pandas as pd\n",
    "import numpy as np\n",
    "import matplotlib as plot\n",
    "import requests\n",
    "import json\n",
    "import os\n",
    "import time\n",
    "import sys\n",
    "import regex as re\n",
    "import lxml\n",
    "import numbers\n",
    "from bs4 import BeautifulSoup\n",
    "import csv\n",
    "import altair as alt\n",
    "import altair_viewer\n",
    "from IPython.display import display\n",
    "import seaborn as sns\n",
    "from wordcloud import WordCloud, STOPWORDS, ImageColorGenerator\n",
    "import matplotlib.pyplot as plt\n",
    "\n",
    "import warnings\n",
    "warnings.filterwarnings(\"ignore\")"
   ]
  },
  {
   "cell_type": "markdown",
   "id": "f7ce1c94",
   "metadata": {},
   "source": [
    "### Data Source 1: Census API "
   ]
  },
  {
   "cell_type": "code",
   "execution_count": 2,
   "id": "0df20182-7911-432f-a2c3-6796a815925e",
   "metadata": {},
   "outputs": [],
   "source": [
    "# Caching\n",
    "CACHE_FILENAME = 'cache.json'\n",
    "CACHE_DICT = {}"
   ]
  },
  {
   "cell_type": "code",
   "execution_count": 24,
   "id": "ea2ffd28-b8b4-425c-a1b1-b94a884caa35",
   "metadata": {},
   "outputs": [],
   "source": [
    "def open_cache():\n",
    "    ''' opens the cache file if it exists and loads the JSON into\n",
    "    the FIB_CACHE dictionary.\n",
    "    \n",
    "    if the cache file doesn't exist, creates a new cache dictionary\n",
    "    Parameters\n",
    "    ----------\n",
    "    None\n",
    "    \n",
    "    Returns\n",
    "    -------\n",
    "    The opened cache: dict\n",
    "    '''\n",
    "    try:\n",
    "        cache_file = open(CACHE_FILENAME, 'r')\n",
    "        cache_contents = cache_file.read()\n",
    "        cache_dict = json.loads(cache_contents)\n",
    "        cache_file.close()\n",
    "    except:\n",
    "        cache_dict = {}\n",
    "    return cache_dict\n",
    "\n",
    "\n",
    "# converts the dictionary to JSON and saves it\n",
    "def save_cache(cache_dict):\n",
    "    ''' saves the current state of the cache to disk\n",
    "    Parameters\n",
    "    ----------\n",
    "    cache_dict: dict\n",
    "        The dictionary to save\n",
    "    Returns\n",
    "    -------\n",
    "    None\n",
    "    '''\n",
    "\n",
    "    dumped_json_cache = json.dumps(cache_dict)\n",
    "    fw = open(CACHE_FILENAME,\"w\")\n",
    "    fw.write(dumped_json_cache)\n",
    "    fw.close()"
   ]
  },
  {
   "cell_type": "code",
   "execution_count": 25,
   "id": "25838a94-294d-427e-9b15-958191e6cb5a",
   "metadata": {},
   "outputs": [],
   "source": [
    "def get_census_data(url):\n",
    "    '''this function will retrieve the median income data from Census API data\n",
    "    attainment data\n",
    "    '''\n",
    "    if os.path.isfile('cache.json') and os.access('cache.json', os.R_OK):\n",
    "        with open('cache.json', 'r', newline='') as cache_file:\n",
    "            cache = json.load(cache_file)\n",
    "            return cache\n",
    "\n",
    "    else:\n",
    "        cache = requests.get(url).text\n",
    "        census_data = json.loads(cache)\n",
    "        save_cache(census_data)\n",
    "        return census_data\n",
    "\n",
    "def clean_census_data(census_data):\n",
    "    '''cleans data and use county as the index\n",
    "    '''\n",
    "    county_dict = {}\n",
    "\n",
    "    for item in census_data:\n",
    "        county_dict[item[3].lower()] = item[1]\n",
    "        county_dict['county'] = 'median_income'\n",
    "        \n",
    "    return county_dict"
   ]
  },
  {
   "cell_type": "markdown",
   "id": "ecd9eb3b-3422-4ecc-8955-ce5bbff5456c",
   "metadata": {},
   "source": [
    "### Data Source 2: Zillow Web Scraping"
   ]
  },
  {
   "cell_type": "code",
   "execution_count": 83,
   "id": "8b5604dc-3cb6-4127-ba91-15205cf8a2a4",
   "metadata": {},
   "outputs": [],
   "source": [
    "headers = {\n",
    "    'accept': 'text/html,application/xhtml+xml,application/xml;q=0.9,image/webp,image/apng,*/*;q=0.8',\n",
    "    'accept-encoding': 'gzip, deflate, br',\n",
    "    'accept-language': 'en-US,en;q=0.8',\n",
    "    'upgrade-insecure-requests': '1',\n",
    "    'user-agent': 'Mozilla/5.0 (Windows NT 10.0; Win64; x64) AppleWebKit/537.36 (KHTML, like Gecko) Chrome/61.0.3163.100 Safari/537.36'\n",
    "    }\n",
    "\n",
    "# We are intersted in the for sale home in the state of Michigan\n",
    "base_url = \"https://www.zillow.com/homes/for_sale/\"\n",
    "state = 'mi'\n",
    "\n",
    "def makesoup(data):\n",
    "    with requests.Session() as s:\n",
    "        r = s.get(data, headers=headers)\n",
    "        soup = BeautifulSoup(r.content, 'html.parser')\n",
    "    return soup\n",
    "\n",
    "def get_zillow_results(data):\n",
    "    '''obtain useful variables from zillow scrapping results'\n",
    "    '''\n",
    "    address = data.find_all(class_= 'list-card-addr')\n",
    "    price = list(data.find_all(class_='list-card-price'))\n",
    "    bed_num = list(data.find_all(\"ul\", class_=\"list-card-details\"))\n",
    "     #create dataframe columns out of variables\n",
    "    df['prices'] = price\n",
    "    df['address'] = address\n",
    "    df['bed_num'] = bed_num\n",
    "    return df.copy()\n",
    "\n",
    "def get_url_list(base_url, state):\n",
    "    url_list = []\n",
    "    url_list.append(base_url +state+'/')\n",
    "    for i in range(2,26):\n",
    "        domain = base_url + state +'/'+str(i)+'_p/'\n",
    "        url_list.append(domain)\n",
    "    return url_list\n",
    "\n",
    "def create_soup_list(url_list):\n",
    "    soup_list = []\n",
    "    for url in url_list:\n",
    "        htmls = makesoup(url)\n",
    "        soup_list.append(htmls)\n",
    "    return soup_list\n",
    "\n",
    "def create_dataframe_list(soup_list):\n",
    "    df_list = []\n",
    "    for soup in soup_list:\n",
    "        new_df = get_zillow_results(soup)\n",
    "        df_list.append(new_df)\n",
    "    return df_list\n",
    "\n",
    "def clean_zillow_data(df_list):\n",
    "    zillow_df = pd.concat(df_list)\n",
    "    zillow_df.reset_index(inplace=True)\n",
    "    zillow_df = zillow_df.drop('index', axis=1)\n",
    "    zillow_df = zillow_df.applymap(str)\n",
    "    zillow_df = zillow_df.applymap(lambda x: re.sub('<[^<]+?>', '',x))\n",
    "    zillow_df[['bed_num', 'home_type']] = zillow_df.bed_num.str.split('-',n=1, expand=True)\n",
    "    zillow_df[['address', 'city','zip_code']] = zillow_df.address.str.split(\",\", expand=True)\n",
    "    # separate bed_num column into bed, bath, and sq_feet\n",
    "    zillow_df[['bed_num', 'baths', 'sqft']] = zillow_df.bed_num.str.split(' ',n=2, expand=True)\n",
    "    zillow_df['sqft'] = zillow_df.sqft.str.replace(\",\", \"\")\n",
    "    # extract only the digits from the columns\n",
    "    zillow_df['bed_num'] = zillow_df.bed_num.str.extract('(\\d+)')\n",
    "    zillow_df['baths'] = zillow_df.baths.str.extract('(\\d+)')\n",
    "    zillow_df['sqft'] = zillow_df.sqft.str.extract('(\\d+)')\n",
    "    # convert columns to float\n",
    "    zillow_df['bed_num'] = zillow_df['bed_num'].astype('float')\n",
    "    zillow_df['baths'] = zillow_df['baths'].astype('float')\n",
    "    zillow_df['sqft'] = zillow_df['sqft'].astype('float')\n",
    "    zillow_df[['state', 'zipcode']] = zillow_df.zip_code.str.split(expand=True)\n",
    "    zillow_df['zipcode'] = zillow_df['zipcode'].astype(str)\n",
    "    zillow_df['prices'] = zillow_df['prices'].str.strip(\"$\")\n",
    "    zillow_df['prices'] = zillow_df['prices'].str.replace(\",\",\"\")\n",
    "    zillow_df['prices'] = zillow_df['prices'].astype('float')\n",
    "    zillow_df = zillow_df.apply(lambda x: x.str.strip() if x.dtype == \"object\" else x)\n",
    "    return zillow_df"
   ]
  },
  {
   "cell_type": "code",
   "execution_count": 6,
   "id": "9c8239c2",
   "metadata": {},
   "outputs": [],
   "source": [
    "if __name__ == \"__main__\":\n",
    "    # Calling Census functions\n",
    "    census_data = get_census_data(\"https://api.census.gov/data/2019/acs/acs5?get=NAME,B19013_001E&for=tract:*&in=state:26&key=dfdb2a1eda26b816e1c7d71114a341b40b1b40b4\")\n",
    "    census_data = clean_census_data(census_data)\n",
    "    with open('census_data.csv', 'w') as f:\n",
    "        [f.write('{0},{1}\\n'.format(key, value)) for key, value in census_data.items()]\n",
    "\n",
    "    # Calling Census functions\n",
    "    url_list = get_url_list(base_url, state)\n",
    "    soup_list = create_soup_list(url_list)\n",
    "    df = pd.DataFrame()\n",
    "    zillow_df = pd.DataFrame()\n",
    "    df_list = create_dataframe_list(soup_list)\n",
    "    zillow_df = clean_zillow_data(df_list)\n",
    "    zillow_df = zillow_df.apply(lambda x: x.str.strip().lower() if x.dtype == \"object\" else x)\n",
    "    zillow_df.head()\n",
    "\n",
    "    # Crosswalk\n",
    "    zip_county_crosswalk = pd.read_csv('zip_county_crosswalk.csv')\n",
    "    zip_county_crosswalk['zipcode'] = zip_county_crosswalk['zipcode'].astype(str)\n",
    "    zip_county_crosswalk['county'] = zip_county_crosswalk['county'].astype(str)\n",
    "    zip_county_crosswalk = zip_county_crosswalk.drop_duplicates(subset =['zipcode'],keep=\"first\")\n",
    "    zillow_df = pd.merge(zillow_df, zip_county_crosswalk, how='left', on='zipcode')\n",
    "    zillow_df.to_csv('zillow_data.csv')\n",
    "\n",
    "    # Merge census data and zillow data\n",
    "    census_data = pd.read_csv('census_data.csv')\n",
    "    census_data['county'] = census_data['county'].astype(str)\n",
    "    census_data['median_income'] = np.where(census_data['median_income'].astype(str) == \"-666666666\", 'NA', census_data['median_income'])\n",
    "    proj_data = zillow_df.merge(census_data, how='left', on='county')\n",
    "    proj_data.to_csv('project_data.csv')"
   ]
  },
  {
   "cell_type": "code",
   "execution_count": null,
   "id": "75ea1c42",
   "metadata": {},
   "outputs": [],
   "source": [
    "# The data check point milestone ends here\n",
    "# The below is the preliminary shape for interaction and visual presentation, pending... not part of this data check point assignment."
   ]
  },
  {
   "cell_type": "markdown",
   "id": "3bad7019",
   "metadata": {},
   "source": [
    "#### Interaction and Presentation"
   ]
  },
  {
   "cell_type": "code",
   "execution_count": null,
   "id": "3998cde7",
   "metadata": {},
   "outputs": [],
   "source": [
    "def welcome_page():\n",
    "    '''\n",
    "    Welcome users to the interactive console\n",
    "    '''\n",
    "    print(f\"\\nWelcome to the 'Find Your Dream Home' project. This projects explores real estate data in Michigan and will help you make informed decision when buying a home.\")\n",
    "\n",
    "def interaction_options():\n",
    "    print('-' * 100)\n",
    "    print(f\"1. See all home for sale listing in your city\")\n",
    "    print(f\"2. Search home for sale by number of rooms\")\n",
    "    print(f\"3. Search home for sale by squarefeet\")\n",
    "    print(f\"4. Find an affordable home within your budget\")\n",
    "    print(f\"5. Compare the average housing price across different cities in Michigan\")\n",
    "    print(f\"6. Correlation between different aspects of home\")\n",
    "    print(f\"7. Search for cities has top neighberhoods, highest median household income\")\n",
    "    print(f\"8. Check housing price range for differnt floor plans\")\n",
    "    \n",
    "\n",
    " "
   ]
  },
  {
   "cell_type": "code",
   "execution_count": 8,
   "id": "272e1a3f",
   "metadata": {},
   "outputs": [
    {
     "name": "stdout",
     "output_type": "stream",
     "text": [
      "\n",
      "Welcome to the 'Find Your Dream Home' project. This projects explores real estate data in Michigan and will help you make informed decision when buying a home.\n",
      "----------------------------------------------------------------------------------------------------\n",
      "1. See all home for sale listing in your city\n",
      "2. Search home for sale by number of rooms\n",
      "3. Search home for sale by squarefeet\n",
      "4. Find an affordable home within your budget\n",
      "5. Compare the average housing price across different cities in Michigan\n",
      "6. Correlation between different aspects of home\n",
      "7. Search for cities has top neighberhoods, highest median household income\n",
      "8. Check housing price range for differnt floor plans\n"
     ]
    },
    {
     "name": "stdout",
     "output_type": "stream",
     "text": [
      "\n",
      "Please type one of the option numbers to start (e.g. '1') or 'exit':  8\n",
      "\n",
      "Please enter the city where you are looking to buy a home or 'exit':  ann arbor\n"
     ]
    },
    {
     "name": "stdout",
     "output_type": "stream",
     "text": [
      "Displaying chart at http://localhost:22578/\n"
     ]
    },
    {
     "name": "stdout",
     "output_type": "stream",
     "text": [
      "\n",
      "Please enter the city where you are looking to buy a home or 'exit':  exit\n"
     ]
    },
    {
     "name": "stdout",
     "output_type": "stream",
     "text": [
      "\n",
      "Bye!\n",
      "----------------------------------------------------------------------------------------------------\n",
      "1. See all home for sale listing in your city\n",
      "2. Search home for sale by number of rooms\n",
      "3. Search home for sale by squarefeet\n",
      "4. Find an affordable home within your budget\n",
      "5. Compare the average housing price across different cities in Michigan\n",
      "6. Correlation between different aspects of home\n",
      "7. Search for cities has top neighberhoods, highest median household income\n",
      "8. Check housing price range for differnt floor plans\n"
     ]
    },
    {
     "name": "stdout",
     "output_type": "stream",
     "text": [
      "\n",
      "Please type one of the option numbers to start (e.g. '1') or 'exit':  exit\n"
     ]
    },
    {
     "name": "stdout",
     "output_type": "stream",
     "text": [
      "\n",
      "Bye!\n"
     ]
    }
   ],
   "source": [
    "if __name__ == \"__main__\":\n",
    "    welcome_page()\n",
    "    proj_data = pd.read_csv('project_data.csv')\n",
    "    while True:\n",
    "        interaction_options()\n",
    "        # Select interactive option\n",
    "        option = input(f\"\\nPlease type one of the option numbers to start (e.g. '1') or 'exit': \")\n",
    "        option_input = option.lower().strip()\n",
    "        # Exit\n",
    "        if option_input == 'exit':\n",
    "            print(f'\\nBye!')\n",
    "            break\n",
    "        #Option 1: See all home for sale listing in your city\n",
    "        elif option_input == '1':\n",
    "            ..."
   ]
  },
  {
   "cell_type": "code",
   "execution_count": null,
   "id": "b012148f",
   "metadata": {},
   "outputs": [],
   "source": []
  }
 ],
 "metadata": {
  "kernelspec": {
   "display_name": "Python 3 (ipykernel)",
   "language": "python",
   "name": "python3"
  },
  "language_info": {
   "codemirror_mode": {
    "name": "ipython",
    "version": 3
   },
   "file_extension": ".py",
   "mimetype": "text/x-python",
   "name": "python",
   "nbconvert_exporter": "python",
   "pygments_lexer": "ipython3",
   "version": "3.9.7"
  }
 },
 "nbformat": 4,
 "nbformat_minor": 5
}
